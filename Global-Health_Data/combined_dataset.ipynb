{
 "cells": [
  {
   "cell_type": "code",
   "execution_count": 3,
   "id": "49f5cad9-4e58-4fb4-9563-e340d6692f2b",
   "metadata": {},
   "outputs": [],
   "source": [
    "import pandas as pd\n",
    "\n",
    "import seaborn as sns\n",
    "import matplotlib.pyplot as plt"
   ]
  },
  {
   "cell_type": "code",
   "execution_count": 4,
   "id": "e455368a-3a1d-48ba-8d68-5e9c9a5c01cb",
   "metadata": {},
   "outputs": [],
   "source": [
    "# Load the sheets into separate DataFrames\n",
    "bp_data = pd.read_excel('cw1 individual -dataset.xlsx', sheet_name='Raised Blood Pressure')\n",
    "bmi_data = pd.read_excel('cw1 individual -dataset.xlsx', sheet_name='BMI')\n",
    "diabetes_data = pd.read_excel('cw1 individual -dataset.xlsx', sheet_name='Diabetes')"
   ]
  },
  {
   "cell_type": "code",
   "execution_count": 5,
   "id": "68020e4c-316a-46bc-b2d0-26de7253089d",
   "metadata": {},
   "outputs": [],
   "source": [
    "# Rename the prevalence columns to avoid conflicts\n",
    "bmi_data = bmi_data.rename(columns={'Prevalence of BMI ≥ 30 kg/m²': 'BMI'})\n",
    "bp_data = bp_data.rename(columns={'Prevalence of raised blood pressure': 'BP'})\n",
    "diabetes_data = diabetes_data.rename(columns={'Age-standardised diabetes prevalence': 'Diabetes'})\n",
    "\n",
    "# Merge the DataFrames on Country, Year, and Sex\n",
    "combined_data = pd.merge(bmi_data, bp_data, on=['Country/Region/World', 'Year', 'Sex'], how='outer')\n",
    "combined_data = pd.merge(combined_data, diabetes_data, on=['Country/Region/World', 'Year', 'Sex'], how='outer')\n",
    "\n",
    "# Save the combined data to a new CSV or Excel file\n",
    "combined_data.to_csv('combined_data.csv', index=False)"
   ]
  },
  {
   "cell_type": "code",
   "execution_count": 6,
   "id": "2d0616ac-c3cb-4f21-9ffd-16003186d1b1",
   "metadata": {},
   "outputs": [],
   "source": [
    "combined_data_df = pd.read_csv('combined_data.csv')"
   ]
  },
  {
   "cell_type": "code",
   "execution_count": 7,
   "id": "707be250-924b-4bbf-8480-b76d664dde3e",
   "metadata": {},
   "outputs": [
    {
     "name": "stdout",
     "output_type": "stream",
     "text": [
      "               Year  Prevalence of BMI>=30 kg/m≤ (obesity)            BP  \\\n",
      "count  16800.000000                           16800.000000  16400.000000   \n",
      "mean    1995.500000                               0.134722      0.278138   \n",
      "std       12.121279                               0.116279      0.058503   \n",
      "min     1975.000000                               0.000639      0.081839   \n",
      "25%     1985.000000                               0.039725      0.239363   \n",
      "50%     1995.500000                               0.111552      0.274918   \n",
      "75%     2006.000000                               0.195292      0.310600   \n",
      "max     2016.000000                               0.653208      0.505568   \n",
      "\n",
      "           Diabetes  \n",
      "count  14000.000000  \n",
      "mean       0.075125  \n",
      "std        0.042190  \n",
      "min        0.010075  \n",
      "25%        0.050328  \n",
      "50%        0.064552  \n",
      "75%        0.085271  \n",
      "max        0.328625  \n"
     ]
    }
   ],
   "source": [
    "print(combined_data_df.describe())"
   ]
  },
  {
   "cell_type": "code",
   "execution_count": 8,
   "id": "43cf0754-7602-442c-a85c-ef34e8742ca6",
   "metadata": {},
   "outputs": [
    {
     "name": "stdout",
     "output_type": "stream",
     "text": [
      "  Country/Region/World    Sex  Year  Prevalence of BMI>=30 kg/m≤ (obesity)  \\\n",
      "0          Afghanistan    Men  1975                               0.002078   \n",
      "1          Afghanistan  Women  1975                               0.008172   \n",
      "2          Afghanistan    Men  1976                               0.002237   \n",
      "3          Afghanistan  Women  1976                               0.008709   \n",
      "4          Afghanistan    Men  1977                               0.002410   \n",
      "\n",
      "         BP  Diabetes  \n",
      "0  0.251041       NaN  \n",
      "1  0.232129       NaN  \n",
      "2  0.252482       NaN  \n",
      "3  0.234490       NaN  \n",
      "4  0.254044       NaN  \n"
     ]
    }
   ],
   "source": [
    "print(combined_data_df.head())"
   ]
  },
  {
   "cell_type": "raw",
   "id": "f20d64a8-4057-47eb-91e5-a66aaa32d0e0",
   "metadata": {},
   "source": [
    "sns.countplot(y='Prevalence of BMI>=30 kg/m≤ (obesity)', data=combined_data_df)\n",
    "plt.show()\n",
    "\n",
    "sns.countplot(y='Prevalence of raised blood pressure', data=combined_data_df)\n",
    "plt.show()\n",
    "\n",
    "sns.countplot(x='Age-standardised diabetes prevalence ', data=combined_data_df)\n",
    "plt.show()"
   ]
  },
  {
   "cell_type": "code",
   "execution_count": 10,
   "id": "c2410fe3-f064-46b2-93b2-23bd05c4dc63",
   "metadata": {},
   "outputs": [
    {
     "name": "stdout",
     "output_type": "stream",
     "text": [
      "       Country/Region/World    Sex   Year  \\\n",
      "0                     False  False  False   \n",
      "1                     False  False  False   \n",
      "2                     False  False  False   \n",
      "3                     False  False  False   \n",
      "4                     False  False  False   \n",
      "...                     ...    ...    ...   \n",
      "16795                 False  False  False   \n",
      "16796                 False  False  False   \n",
      "16797                 False  False  False   \n",
      "16798                 False  False  False   \n",
      "16799                 False  False  False   \n",
      "\n",
      "       Prevalence of BMI>=30 kg/m≤ (obesity)     BP  Diabetes  \n",
      "0                                      False  False      True  \n",
      "1                                      False  False      True  \n",
      "2                                      False  False      True  \n",
      "3                                      False  False      True  \n",
      "4                                      False  False      True  \n",
      "...                                      ...    ...       ...  \n",
      "16795                                  False  False     False  \n",
      "16796                                  False  False      True  \n",
      "16797                                  False  False      True  \n",
      "16798                                  False   True      True  \n",
      "16799                                  False   True      True  \n",
      "\n",
      "[16800 rows x 6 columns]\n"
     ]
    }
   ],
   "source": [
    "print(combined_data_df.isna())"
   ]
  },
  {
   "cell_type": "code",
   "execution_count": 12,
   "id": "3890a651-948c-4b06-97b5-9cd9b5bed200",
   "metadata": {},
   "outputs": [],
   "source": [
    "combined_data_df = combined_data_df.dropna()  # Fill with 0"
   ]
  },
  {
   "cell_type": "code",
   "execution_count": 14,
   "id": "31690b51-05a5-4daf-a460-2f1574d53ad7",
   "metadata": {},
   "outputs": [
    {
     "name": "stdout",
     "output_type": "stream",
     "text": [
      "       Country/Region/World    Sex   Year  \\\n",
      "10                    False  False  False   \n",
      "11                    False  False  False   \n",
      "12                    False  False  False   \n",
      "13                    False  False  False   \n",
      "14                    False  False  False   \n",
      "...                     ...    ...    ...   \n",
      "16791                 False  False  False   \n",
      "16792                 False  False  False   \n",
      "16793                 False  False  False   \n",
      "16794                 False  False  False   \n",
      "16795                 False  False  False   \n",
      "\n",
      "       Prevalence of BMI>=30 kg/m≤ (obesity)     BP  Diabetes  \n",
      "10                                     False  False     False  \n",
      "11                                     False  False     False  \n",
      "12                                     False  False     False  \n",
      "13                                     False  False     False  \n",
      "14                                     False  False     False  \n",
      "...                                      ...    ...       ...  \n",
      "16791                                  False  False     False  \n",
      "16792                                  False  False     False  \n",
      "16793                                  False  False     False  \n",
      "16794                                  False  False     False  \n",
      "16795                                  False  False     False  \n",
      "\n",
      "[14000 rows x 6 columns]\n"
     ]
    }
   ],
   "source": [
    "print(combined_data_df.isna())"
   ]
  },
  {
   "cell_type": "code",
   "execution_count": null,
   "id": "d32b1c13-1886-4f56-847b-6c4e49ff3f87",
   "metadata": {},
   "outputs": [],
   "source": []
  }
 ],
 "metadata": {
  "kernelspec": {
   "display_name": "Python [conda env:base] *",
   "language": "python",
   "name": "conda-base-py"
  },
  "language_info": {
   "codemirror_mode": {
    "name": "ipython",
    "version": 3
   },
   "file_extension": ".py",
   "mimetype": "text/x-python",
   "name": "python",
   "nbconvert_exporter": "python",
   "pygments_lexer": "ipython3",
   "version": "3.12.7"
  }
 },
 "nbformat": 4,
 "nbformat_minor": 5
}
